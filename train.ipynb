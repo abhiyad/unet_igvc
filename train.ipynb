{
 "cells": [
  {
   "cell_type": "code",
   "execution_count": 1,
   "metadata": {},
   "outputs": [
    {
     "name": "stderr",
     "output_type": "stream",
     "text": [
      "Using TensorFlow backend.\n"
     ]
    }
   ],
   "source": [
    "import numpy as np\n",
    "import os\n",
    "import skimage.io as io\n",
    "import skimage.transform as trans\n",
    "import numpy as np\n",
    "from keras.models import *\n",
    "from keras.layers import *\n",
    "from keras.optimizers import *\n",
    "from keras.callbacks import ModelCheckpoint, LearningRateScheduler\n",
    "from keras import backend as keras\n",
    "\n",
    "\n",
    "def unet(pretrained_weights = None,input_size = (128,128,3)):\n",
    "    inputs = Input(input_size)\n",
    "    conv1 = Conv2D(64, 3, activation = 'relu', padding = 'same', kernel_initializer = 'he_normal')(inputs)\n",
    "    conv1 = Conv2D(64, 3, activation = 'relu', padding = 'same', kernel_initializer = 'he_normal')(conv1)\n",
    "    pool1 = MaxPooling2D(pool_size=(2, 2))(conv1)\n",
    "    conv2 = Conv2D(128, 3, activation = 'relu', padding = 'same', kernel_initializer = 'he_normal')(pool1)\n",
    "    conv2 = Conv2D(128, 3, activation = 'relu', padding = 'same', kernel_initializer = 'he_normal')(conv2)\n",
    "    pool2 = MaxPooling2D(pool_size=(2, 2))(conv2)\n",
    "    conv3 = Conv2D(256, 3, activation = 'relu', padding = 'same', kernel_initializer = 'he_normal')(pool2)\n",
    "    conv3 = Conv2D(256, 3, activation = 'relu', padding = 'same', kernel_initializer = 'he_normal')(conv3)\n",
    "    pool3 = MaxPooling2D(pool_size=(2, 2))(conv3)\n",
    "    conv4 = Conv2D(512, 3, activation = 'relu', padding = 'same', kernel_initializer = 'he_normal')(pool3)\n",
    "    conv4 = Conv2D(512, 3, activation = 'relu', padding = 'same', kernel_initializer = 'he_normal')(conv4)\n",
    "    drop4 = Dropout(0.5)(conv4)\n",
    "    pool4 = MaxPooling2D(pool_size=(2, 2))(drop4)\n",
    "\n",
    "    conv5 = Conv2D(1024, 3, activation = 'relu', padding = 'same', kernel_initializer = 'he_normal')(pool4)\n",
    "    conv5 = Conv2D(1024, 3, activation = 'relu', padding = 'same', kernel_initializer = 'he_normal')(conv5)\n",
    "    drop5 = Dropout(0.5)(conv5)\n",
    "\n",
    "    up6 = Conv2D(512, 2, activation = 'relu', padding = 'same', kernel_initializer = 'he_normal')(UpSampling2D(size = (2,2))(drop5))\n",
    "    merge6 = concatenate([drop4,up6], axis = 3)\n",
    "    conv6 = Conv2D(512, 3, activation = 'relu', padding = 'same', kernel_initializer = 'he_normal')(merge6)\n",
    "    conv6 = Conv2D(512, 3, activation = 'relu', padding = 'same', kernel_initializer = 'he_normal')(conv6)\n",
    "\n",
    "    up7 = Conv2D(256, 2, activation = 'relu', padding = 'same', kernel_initializer = 'he_normal')(UpSampling2D(size = (2,2))(conv6))\n",
    "    merge7 = concatenate([conv3,up7], axis = 3)\n",
    "    conv7 = Conv2D(256, 3, activation = 'relu', padding = 'same', kernel_initializer = 'he_normal')(merge7)\n",
    "    conv7 = Conv2D(256, 3, activation = 'relu', padding = 'same', kernel_initializer = 'he_normal')(conv7)\n",
    "\n",
    "    up8 = Conv2D(128, 2, activation = 'relu', padding = 'same', kernel_initializer = 'he_normal')(UpSampling2D(size = (2,2))(conv7))\n",
    "    merge8 = concatenate([conv2,up8], axis = 3)\n",
    "    conv8 = Conv2D(128, 3, activation = 'relu', padding = 'same', kernel_initializer = 'he_normal')(merge8)\n",
    "    conv8 = Conv2D(128, 3, activation = 'relu', padding = 'same', kernel_initializer = 'he_normal')(conv8)\n",
    "\n",
    "    up9 = Conv2D(64, 2, activation = 'relu', padding = 'same', kernel_initializer = 'he_normal')(UpSampling2D(size = (2,2))(conv8))\n",
    "    merge9 = concatenate([conv1,up9], axis = 3)\n",
    "    conv9 = Conv2D(64, 3, activation = 'relu', padding = 'same', kernel_initializer = 'he_normal')(merge9)\n",
    "    conv9 = Conv2D(64, 3, activation = 'relu', padding = 'same', kernel_initializer = 'he_normal')(conv9)\n",
    "    conv9 = Conv2D(2, 3, activation = 'relu', padding = 'same', kernel_initializer = 'he_normal')(conv9)\n",
    "    conv10 = Conv2D(1, 1, activation = 'sigmoid')(conv9)\n",
    "\n",
    "    model = Model(input = inputs, output = conv10)\n",
    "\n",
    "    model.compile(optimizer = Adam(lr = 1e-4), loss = 'binary_crossentropy', metrics = ['accuracy'])\n",
    "\n",
    "    #model.summary()\n",
    "\n",
    "    if(pretrained_weights):\n",
    "    \tmodel.load_weights(pretrained_weights)\n",
    "\n",
    "    return model"
   ]
  },
  {
   "cell_type": "code",
   "execution_count": 2,
   "metadata": {},
   "outputs": [
    {
     "name": "stderr",
     "output_type": "stream",
     "text": [
      "/usr/local/lib/python3.5/dist-packages/ipykernel_launcher.py:55: UserWarning: Update your `Model` call to the Keras 2 API: `Model(inputs=Tensor(\"in..., outputs=Tensor(\"co...)`\n"
     ]
    }
   ],
   "source": [
    "model = unet()"
   ]
  },
  {
   "cell_type": "code",
   "execution_count": 3,
   "metadata": {},
   "outputs": [],
   "source": [
    "# import glob\n",
    "# import cv2 as cv\n",
    "# import numpy as np\n",
    "# X_train=[]\n",
    "# #for filename in glob.glob(\"./data/membrane/train/aug/train/*.jpg\"):\n",
    "# for i in range(100):\n",
    "#     # print (filename)\n",
    "#     x = cv.imread(filename)\n",
    "#     img = np.zeros([3,480,640])\n",
    "#     img[0,:,:]=x[:,:,0]\n",
    "#     img[1,:,:]=x[:,:,1]\n",
    "#     img[2,:,:]=x[:,:,2]\n",
    "#     # print(np.array(img).shape,np.array(x).shape)\n",
    "#     X_train.append(img)\n",
    "# X_train = np.asarray(X_train)\n"
   ]
  },
  {
   "cell_type": "code",
   "execution_count": 15,
   "metadata": {},
   "outputs": [],
   "source": [
    "import cv2 as cv\n",
    "import random\n",
    "def generate_arrays_from_file(batch_size):\n",
    "    while(True):\n",
    "        X_train=[]\n",
    "        y_train=[]\n",
    "        for i in range(batch_size):\n",
    "            num = random.randint(0,899)\n",
    "            x = cv.imread(\"./data/membrane/train/aug/train/%d.jpg\"%(num))\n",
    "            x = cv.resize(x,(128,128))\n",
    "            x = x / 255\n",
    "            y = cv.imread(\"./data/membrane/train/aug/label/%d.jpg\"%(num),0)\n",
    "            y = cv.resize(y,(128,128))\n",
    "            y = 1*(y>100) \n",
    "            x = x.reshape(128,128,3)\n",
    "            y = y.reshape(128,128,1)\n",
    "            X_train.append(x)\n",
    "            y_train.append(y)\n",
    "        X_train = np.array(X_train)\n",
    "        y_train = np.array(y_train)\n",
    "        yield(X_train,y_train)"
   ]
  },
  {
   "cell_type": "code",
   "execution_count": 16,
   "metadata": {},
   "outputs": [
    {
     "name": "stderr",
     "output_type": "stream",
     "text": [
      "/usr/local/lib/python3.5/dist-packages/ipykernel_launcher.py:2: UserWarning: The semantics of the Keras 2 argument `steps_per_epoch` is not the same as the Keras 1 argument `samples_per_epoch`. `steps_per_epoch` is the number of batches to draw from the generator at each epoch. Basically steps_per_epoch = samples_per_epoch/batch_size. Similarly `nb_val_samples`->`validation_steps` and `val_samples`->`steps` arguments have changed. Update your method calls accordingly.\n",
      "  \n",
      "/usr/local/lib/python3.5/dist-packages/ipykernel_launcher.py:2: UserWarning: Update your `fit_generator` call to the Keras 2 API: `fit_generator(<generator..., epochs=50, steps_per_epoch=50)`\n",
      "  \n"
     ]
    },
    {
     "name": "stdout",
     "output_type": "stream",
     "text": [
      "Epoch 1/50\n",
      "50/50 [==============================] - 804s 16s/step - loss: 0.0883 - acc: 0.9828\n",
      "Epoch 2/50\n",
      "50/50 [==============================] - 794s 16s/step - loss: 0.0913 - acc: 0.9826\n",
      "Epoch 3/50\n",
      "50/50 [==============================] - 795s 16s/step - loss: 0.0704 - acc: 0.9823\n",
      "Epoch 4/50\n",
      "50/50 [==============================] - 795s 16s/step - loss: 0.0483 - acc: 0.9823\n",
      "Epoch 5/50\n",
      "50/50 [==============================] - 795s 16s/step - loss: 0.0426 - acc: 0.9822\n",
      "Epoch 6/50\n",
      "50/50 [==============================] - 795s 16s/step - loss: 0.0396 - acc: 0.9830\n",
      "Epoch 7/50\n",
      "50/50 [==============================] - 794s 16s/step - loss: 0.0389 - acc: 0.9823\n",
      "Epoch 8/50\n",
      "50/50 [==============================] - 794s 16s/step - loss: 0.0386 - acc: 0.9823\n",
      "Epoch 9/50\n",
      "50/50 [==============================] - 794s 16s/step - loss: 0.0367 - acc: 0.9828\n",
      "Epoch 10/50\n",
      "50/50 [==============================] - 794s 16s/step - loss: 0.0367 - acc: 0.9828\n",
      "Epoch 11/50\n",
      "50/50 [==============================] - 794s 16s/step - loss: 0.0359 - acc: 0.9825\n",
      "Epoch 12/50\n",
      "50/50 [==============================] - 794s 16s/step - loss: 0.0356 - acc: 0.9827\n",
      "Epoch 13/50\n",
      "50/50 [==============================] - 794s 16s/step - loss: 0.0357 - acc: 0.9823\n",
      "Epoch 14/50\n",
      "50/50 [==============================] - 794s 16s/step - loss: 0.0349 - acc: 0.9831\n",
      "Epoch 15/50\n",
      "50/50 [==============================] - 794s 16s/step - loss: 0.0340 - acc: 0.9844\n",
      "Epoch 16/50\n",
      "50/50 [==============================] - 794s 16s/step - loss: 0.0347 - acc: 0.9843\n",
      "Epoch 17/50\n",
      "50/50 [==============================] - 794s 16s/step - loss: 0.0342 - acc: 0.9843\n",
      "Epoch 18/50\n",
      "50/50 [==============================] - 794s 16s/step - loss: 0.0337 - acc: 0.9843\n",
      "Epoch 19/50\n",
      "50/50 [==============================] - 794s 16s/step - loss: 0.0331 - acc: 0.9849\n",
      "Epoch 20/50\n",
      "50/50 [==============================] - 794s 16s/step - loss: 0.0329 - acc: 0.9848\n",
      "Epoch 21/50\n",
      "50/50 [==============================] - 793s 16s/step - loss: 0.0330 - acc: 0.9847\n",
      "Epoch 22/50\n",
      "50/50 [==============================] - 793s 16s/step - loss: 0.0324 - acc: 0.9851\n",
      "Epoch 23/50\n",
      "50/50 [==============================] - 792s 16s/step - loss: 0.0322 - acc: 0.9850\n",
      "Epoch 24/50\n",
      "50/50 [==============================] - 793s 16s/step - loss: 0.0308 - acc: 0.9857\n",
      "Epoch 25/50\n",
      "50/50 [==============================] - 792s 16s/step - loss: 0.0318 - acc: 0.9853\n",
      "Epoch 26/50\n",
      "50/50 [==============================] - 792s 16s/step - loss: 0.0313 - acc: 0.9854\n",
      "Epoch 27/50\n",
      "50/50 [==============================] - 793s 16s/step - loss: 0.0306 - acc: 0.9858\n",
      "Epoch 28/50\n",
      "50/50 [==============================] - 794s 16s/step - loss: 0.0311 - acc: 0.9857\n",
      "Epoch 29/50\n",
      "50/50 [==============================] - 795s 16s/step - loss: 0.0297 - acc: 0.9862\n",
      "Epoch 30/50\n",
      "50/50 [==============================] - 794s 16s/step - loss: 0.0303 - acc: 0.9860\n",
      "Epoch 31/50\n",
      "50/50 [==============================] - 793s 16s/step - loss: 0.0294 - acc: 0.9864\n",
      "Epoch 32/50\n",
      "50/50 [==============================] - 793s 16s/step - loss: 0.0292 - acc: 0.9864\n",
      "Epoch 33/50\n",
      "50/50 [==============================] - 793s 16s/step - loss: 0.0289 - acc: 0.9865\n",
      "Epoch 34/50\n",
      "50/50 [==============================] - 793s 16s/step - loss: 0.0292 - acc: 0.9866\n",
      "Epoch 35/50\n",
      "50/50 [==============================] - 794s 16s/step - loss: 0.0277 - acc: 0.9872\n",
      "Epoch 36/50\n",
      "50/50 [==============================] - 794s 16s/step - loss: 0.0279 - acc: 0.9871\n",
      "Epoch 37/50\n",
      "50/50 [==============================] - 793s 16s/step - loss: 0.0282 - acc: 0.9871\n",
      "Epoch 38/50\n",
      "50/50 [==============================] - 794s 16s/step - loss: 0.0270 - acc: 0.9876\n",
      "Epoch 39/50\n",
      "50/50 [==============================] - 794s 16s/step - loss: 0.0267 - acc: 0.9877\n",
      "Epoch 40/50\n",
      "50/50 [==============================] - 793s 16s/step - loss: 0.0263 - acc: 0.9881\n",
      "Epoch 41/50\n",
      "50/50 [==============================] - 794s 16s/step - loss: 0.0254 - acc: 0.9885\n",
      "Epoch 42/50\n",
      "50/50 [==============================] - 793s 16s/step - loss: 0.0263 - acc: 0.9882\n",
      "Epoch 43/50\n",
      "50/50 [==============================] - 793s 16s/step - loss: 0.0258 - acc: 0.9883\n",
      "Epoch 44/50\n",
      "50/50 [==============================] - 794s 16s/step - loss: 0.0249 - acc: 0.9889\n",
      "Epoch 45/50\n",
      "50/50 [==============================] - 794s 16s/step - loss: 0.0249 - acc: 0.9890\n",
      "Epoch 46/50\n",
      "50/50 [==============================] - 794s 16s/step - loss: 0.0249 - acc: 0.9889\n",
      "Epoch 47/50\n",
      "50/50 [==============================] - 793s 16s/step - loss: 0.0248 - acc: 0.9890\n",
      "Epoch 48/50\n",
      "50/50 [==============================] - 794s 16s/step - loss: 0.0248 - acc: 0.9891\n",
      "Epoch 49/50\n",
      "50/50 [==============================] - 793s 16s/step - loss: 0.0239 - acc: 0.9894\n",
      "Epoch 50/50\n",
      "50/50 [==============================] - 794s 16s/step - loss: 0.0242 - acc: 0.9894\n"
     ]
    },
    {
     "data": {
      "text/plain": [
       "<keras.callbacks.History at 0x7f93602b4cf8>"
      ]
     },
     "execution_count": 16,
     "metadata": {},
     "output_type": "execute_result"
    }
   ],
   "source": [
    "model.fit_generator(generate_arrays_from_file(20),\n",
    "        steps_per_epoch=50,nb_epoch=50)"
   ]
  },
  {
   "cell_type": "code",
   "execution_count": 18,
   "metadata": {},
   "outputs": [],
   "source": [
    "y = cv.imread(\"./data/membrane/train/aug/label/%d.jpg\"%(5),0)\n",
    "y = cv.resize(y,(128,128))\n",
    "y = 255*( y > 100 )\n",
    "#y=y.reshape(480,640,1)"
   ]
  },
  {
   "cell_type": "code",
   "execution_count": 19,
   "metadata": {},
   "outputs": [],
   "source": [
    "x = cv.imread(\"./data/membrane/train/aug/train/%d.jpg\"%(5),1)\n",
    "x = cv.resize(x,(128,128))\n",
    "#x = x.reshape(480,640,1)"
   ]
  },
  {
   "cell_type": "code",
   "execution_count": 22,
   "metadata": {},
   "outputs": [
    {
     "data": {
      "text/plain": [
       "<matplotlib.image.AxesImage at 0x7f9362805f28>"
      ]
     },
     "execution_count": 22,
     "metadata": {},
     "output_type": "execute_result"
    },
    {
     "data": {
      "image/png": "[encoded data removed]",
      "text/plain": [
       "<Figure size 432x288 with 1 Axes>"
      ]
     },
     "metadata": {
      "needs_background": "light"
     },
     "output_type": "display_data"
    }
   ],
   "source": [
    "import matplotlib.pyplot as plt\n",
    "plt.imshow(x)"
   ]
  },
  {
   "cell_type": "code",
   "execution_count": 23,
   "metadata": {},
   "outputs": [
    {
     "data": {
      "text/plain": [
       "<matplotlib.image.AxesImage at 0x7f93627d54a8>"
      ]
     },
     "execution_count": 23,
     "metadata": {},
     "output_type": "execute_result"
    },
    {
     "data": {
      "image/png": "[encoded data removed]",
      "text/plain": [
       "<Figure size 432x288 with 1 Axes>"
      ]
     },
     "metadata": {
      "needs_background": "light"
     },
     "output_type": "display_data"
    }
   ],
   "source": [
    "plt.imshow(y)"
   ]
  },
  {
   "cell_type": "code",
   "execution_count": null,
   "metadata": {},
   "outputs": [],
   "source": []
  },
  {
   "cell_type": "code",
   "execution_count": 24,
   "metadata": {},
   "outputs": [],
   "source": [
    "model.save_weights(\"model.h5\")"
   ]
  },
  {
   "cell_type": "code",
   "execution_count": 31,
   "metadata": {},
   "outputs": [],
   "source": [
    "y=model.predict(x.reshape(1,128,128,3))"
   ]
  },
  {
   "cell_type": "code",
   "execution_count": 32,
   "metadata": {},
   "outputs": [
    {
     "data": {
      "text/plain": [
       "<matplotlib.image.AxesImage at 0x7f93625b6c88>"
      ]
     },
     "execution_count": 32,
     "metadata": {},
     "output_type": "execute_result"
    },
    {
     "data": {
      "image/png": "[encoded data removed]",
      "text/plain": [
       "<Figure size 432x288 with 1 Axes>"
      ]
     },
     "metadata": {
      "needs_background": "light"
     },
     "output_type": "display_data"
    }
   ],
   "source": [
    "plt.imshow(y.reshape(128,128)*255)"
   ]
  },
  {
   "cell_type": "code",
   "execution_count": 36,
   "metadata": {},
   "outputs": [],
   "source": [
    "t=y.reshape(128,128)*255"
   ]
  },
  {
   "cell_type": "code",
   "execution_count": 40,
   "metadata": {},
   "outputs": [
    {
     "data": {
      "text/plain": [
       "<matplotlib.image.AxesImage at 0x7f9362466438>"
      ]
     },
     "execution_count": 40,
     "metadata": {},
     "output_type": "execute_result"
    },
    {
     "data": {
      "image/png": "[encoded data removed]",
      "text/plain": [
       "<Figure size 432x288 with 1 Axes>"
      ]
     },
     "metadata": {
      "needs_background": "light"
     },
     "output_type": "display_data"
    }
   ],
   "source": [
    "plt.imshow(t>130)"
   ]
  },
  {
   "cell_type": "code",
   "execution_count": null,
   "metadata": {},
   "outputs": [],
   "source": []
  }
 ],
 "metadata": {
  "kernelspec": {
   "display_name": "Python 3",
   "language": "python",
   "name": "python3"
  },
  "language_info": {
   "codemirror_mode": {
    "name": "ipython",
    "version": 3
   },
   "file_extension": ".py",
   "mimetype": "text/x-python",
   "name": "python",
   "nbconvert_exporter": "python",
   "pygments_lexer": "ipython3",
   "version": "3.5.2"
  }
 },
 "nbformat": 4,
 "nbformat_minor": 2
}
