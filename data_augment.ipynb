{
 "cells": [
  {
   "cell_type": "code",
   "execution_count": 3,
   "metadata": {},
   "outputs": [
    {
     "name": "stderr",
     "output_type": "stream",
     "text": [
      "Using TensorFlow backend.\n"
     ]
    }
   ],
   "source": [
    "#!/usr/bin/env python3\n",
    "# -*- coding: utf-8 -*-\n",
    "\"\"\"\n",
    "Created on Thu Mar 29 09:57:55 2018\n",
    "@author: avsthiago\n",
    "\"\"\"\n",
    "\n",
    "from keras.preprocessing.image import ImageDataGenerator\n",
    "import numpy as np\n",
    "import cv2\n",
    "\n",
    "def brightness_adjustment(img):\n",
    "    # turn the image into the HSV space\n",
    "    hsv = cv2.cvtColor(img, cv2.COLOR_RGB2HSV)\n",
    "    # creates a random bright\n",
    "    ratio = .5 + np.random.uniform()\n",
    "    # convert to int32, so you don't get uint8 overflow\n",
    "    # multiply the HSV Value channel by the ratio\n",
    "    # clips the result between 0 and 255\n",
    "    # convert again to uint8\n",
    "    hsv[:,:,2] =  np.clip(hsv[:,:,2].astype(np.int32) * ratio, 0, 255).astype(np.uint8)\n",
    "    # return the image int the BGR color space\n",
    "    return cv2.cvtColor(hsv, cv2.COLOR_HSV2BGR)\n",
    "\n",
    "\n"
   ]
  },
  {
   "cell_type": "code",
   "execution_count": 11,
   "metadata": {},
   "outputs": [
    {
     "name": "stdout",
     "output_type": "stream",
     "text": [
      "Found 900 images belonging to 1 classes.\n",
      "/home/apurvan/igvc_ws/unet_igvc/aug/train/original/\n"
     ]
    }
   ],
   "source": [
    "# creates an image generator\n",
    "# better explanation here https://keras.io/preprocessing/image/\n",
    "img_generator = ImageDataGenerator(preprocessing_function=brightness_adjustment,\n",
    "                                   rotation_range=2, width_shift_range=0.01,\n",
    "                                   height_shift_range=0.01, shear_range=0.02,\n",
    "                                   zoom_range=0.03, channel_shift_range=4.,\n",
    "                                   horizontal_flip=True, vertical_flip=True,\n",
    "                                   fill_mode='nearest')\n",
    " \n",
    "# check here for more details\n",
    "# https://keras.io/preprocessing/image/#imagedatagenerator-methods\n",
    "images_path = '/home/apurvan/igvc_ws/unet_igvc/aug/train/original/'\n",
    "aug_iter = img_generator.flow_from_directory(images_path,\n",
    "                                             target_size=(640, 480),\n",
    "                                             shuffle=True, \n",
    "                                             batch_size=1)\n",
    "print (images_path)"
   ]
  },
  {
   "cell_type": "code",
   "execution_count": 12,
   "metadata": {},
   "outputs": [],
   "source": [
    "# number of images to be generated\n",
    "n_images = 1000\n",
    "\n",
    "# path where the generated images will be stored\n",
    "path_out =  '/home/apurvan/igvc_ws/unet_igvc/aug/train/augmented/'\n",
    "\n",
    "for j,i in enumerate(range(n_images)):\n",
    "    img = next(aug_iter)[0].astype(np.uint8)[0]\n",
    "    cv2.imwrite(path_out + str(i) + '.jpg', img)\n"
   ]
  },
  {
   "cell_type": "code",
   "execution_count": null,
   "metadata": {},
   "outputs": [],
   "source": []
  }
 ],
 "metadata": {
  "kernelspec": {
   "display_name": "Python 3",
   "language": "python",
   "name": "python3"
  },
  "language_info": {
   "codemirror_mode": {
    "name": "ipython",
    "version": 3
   },
   "file_extension": ".py",
   "mimetype": "text/x-python",
   "name": "python",
   "nbconvert_exporter": "python",
   "pygments_lexer": "ipython3",
   "version": "3.5.2"
  }
 },
 "nbformat": 4,
 "nbformat_minor": 2
}
