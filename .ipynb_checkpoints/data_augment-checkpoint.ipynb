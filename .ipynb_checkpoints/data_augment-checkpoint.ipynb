{
 "cells": [
  {
   "cell_type": "code",
   "execution_count": 1,
   "metadata": {},
   "outputs": [
    {
     "name": "stderr",
     "output_type": "stream",
     "text": [
      "Using TensorFlow backend.\n"
     ]
    }
   ],
   "source": [
    "#!/usr/bin/env python3\n",
    "# -*- coding: utf-8 -*-\n",
    "\"\"\"\n",
    "Created on Thu Mar 29 09:57:55 2018\n",
    "@author: avsthiago\n",
    "\"\"\"\n",
    "\n",
    "from keras.preprocessing.image import ImageDataGenerator\n",
    "import numpy as np\n",
    "import cv2\n",
    "\n",
    "def brightness_adjustment(img):\n",
    "    # turn the image into the HSV space\n",
    "    hsv = cv2.cvtColor(img, cv2.COLOR_RGB2HSV)\n",
    "    # creates a random bright\n",
    "    ratio = .5 + np.random.uniform()\n",
    "    # convert to int32, so you don't get uint8 overflow\n",
    "    # multiply the HSV Value channel by the ratio\n",
    "    # clips the result between 0 and 255\n",
    "    # convert again to uint8\n",
    "    hsv[:,:,2] =  np.clip(hsv[:,:,2].astype(np.int32) * ratio, 0, 255).astype(np.uint8)\n",
    "    # return the image int the BGR color space\n",
    "    return cv2.cvtColor(hsv, cv2.COLOR_HSV2BGR)\n",
    "\n",
    "\n"
   ]
  },
  {
   "cell_type": "code",
   "execution_count": 2,
   "metadata": {},
   "outputs": [
    {
     "ename": "NameError",
     "evalue": "name 'img_generator' is not defined",
     "output_type": "error",
     "traceback": [
      "\u001b[0;31m---------------------------------------------------------------------------\u001b[0m",
      "\u001b[0;31mNameError\u001b[0m                                 Traceback (most recent call last)",
      "\u001b[0;32m<ipython-input-2-ef6d72d68276>\u001b[0m in \u001b[0;36m<module>\u001b[0;34m\u001b[0m\n\u001b[1;32m     18\u001b[0m \u001b[0mtrain_images_path\u001b[0m \u001b[0;34m=\u001b[0m \u001b[0;34m'/home/apurvan/igvc_ws/unet_igvc/unaugmented_data/train'\u001b[0m\u001b[0;34m\u001b[0m\u001b[0m\n\u001b[1;32m     19\u001b[0m \u001b[0mlabel_images_path\u001b[0m \u001b[0;34m=\u001b[0m \u001b[0;34m'/home/apurvan/igvc_ws/unet_igvc/unaugmented_data/label'\u001b[0m\u001b[0;34m\u001b[0m\u001b[0m\n\u001b[0;32m---> 20\u001b[0;31m train_aug_iter = img_generator.flow_from_directory(train_images_path,\n\u001b[0m\u001b[1;32m     21\u001b[0m                                              \u001b[0mtarget_size\u001b[0m\u001b[0;34m=\u001b[0m\u001b[0;34m(\u001b[0m\u001b[0;36m640\u001b[0m\u001b[0;34m,\u001b[0m \u001b[0;36m480\u001b[0m\u001b[0;34m)\u001b[0m\u001b[0;34m,\u001b[0m\u001b[0;34m\u001b[0m\u001b[0m\n\u001b[1;32m     22\u001b[0m                                              \u001b[0mseed\u001b[0m\u001b[0;34m=\u001b[0m\u001b[0;36m1000\u001b[0m\u001b[0;34m,\u001b[0m\u001b[0;34m\u001b[0m\u001b[0m\n",
      "\u001b[0;31mNameError\u001b[0m: name 'img_generator' is not defined"
     ]
    }
   ],
   "source": [
    "# creates an image generator\n",
    "# better explanation here https://keras.io/preprocessing/image/\n",
    "train_img_generator = ImageDataGenerator(preprocessing_function=brightness_adjustment,\n",
    "                                   rotation_range=2, width_shift_range=0.01,\n",
    "                                   height_shift_range=0.01, shear_range=0.02,\n",
    "                                   zoom_range=0.03, channel_shift_range=4.,\n",
    "                                   horizontal_flip=True, vertical_flip=True,\n",
    "                                   fill_mode='nearest')\n",
    "label_img_generator = ImageDataGenerator(preprocessing_function=brightness_adjustment,\n",
    "                                   rotation_range=2, width_shift_range=0.01,\n",
    "                                   height_shift_range=0.01, shear_range=0.02,\n",
    "                                   zoom_range=0.03, channel_shift_range=4.,\n",
    "                                   horizontal_flip=True, vertical_flip=True,\n",
    "                                   fill_mode='nearest')\n",
    " \n",
    "# check here for more details\n",
    "# https://keras.io/preprocessing/image/#imagedatagenerator-methods\n",
    "train_images_path = '/home/apurvan/igvc_ws/unet_igvc/unaugmented_data/train'\n",
    "label_images_path = '/home/apurvan/igvc_ws/unet_igvc/unaugmented_data/label'\n",
    "train_aug_iter = train_img_generator.flow_from_directory(train_images_path,\n",
    "                                             target_size=(640, 480),\n",
    "                                             seed=1000, \n",
    "                                             batch_size=1)\n",
    "label_aug_iter = label_img_generator.flow_from_directory(label_images_path,\n",
    "                                             target_size=(640, 480),\n",
    "                                             seed=1000, \n",
    "                                             batch_size=1)\n",
    "\n",
    "print (train_images_path)\n",
    "print (label_images_path)"
   ]
  },
  {
   "cell_type": "code",
   "execution_count": 7,
   "metadata": {},
   "outputs": [],
   "source": [
    "# number of images to be generated\n",
    "n_images = 900\n",
    "\n",
    "# path where the generated images will be stored\n",
    "path_out =  '/home/apurvan/igvc_ws/unet_igvc/augmented_output/'\n",
    "\n",
    "for j,i in enumerate(range(n_images)):\n",
    "    train_img = next(train_aug_iter)[0].astype(np.uint8)[0]\n",
    "    label_img = next(label_aug_iter)[0].astype(np.uint8)[0]\n",
    "    cv2.imwrite(path_out+'train/' + str(i) + '.jpg', train_img)\n",
    "    cv2.imwrite(path_out+ 'label/' + str(i) + '.jpg', label_img)"
   ]
  },
  {
   "cell_type": "code",
   "execution_count": null,
   "metadata": {},
   "outputs": [],
   "source": []
  }
 ],
 "metadata": {
  "kernelspec": {
   "display_name": "Python 3",
   "language": "python",
   "name": "python3"
  },
  "language_info": {
   "codemirror_mode": {
    "name": "ipython",
    "version": 3
   },
   "file_extension": ".py",
   "mimetype": "text/x-python",
   "name": "python",
   "nbconvert_exporter": "python",
   "pygments_lexer": "ipython3",
   "version": "3.5.2"
  }
 },
 "nbformat": 4,
 "nbformat_minor": 2
}
